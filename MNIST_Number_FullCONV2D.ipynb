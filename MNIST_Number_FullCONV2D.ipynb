{
  "nbformat": 4,
  "nbformat_minor": 0,
  "metadata": {
    "accelerator": "GPU",
    "colab": {
      "name": "MNIST_Number_FullCONV2D.ipynb",
      "provenance": [],
      "collapsed_sections": [],
      "toc_visible": true,
      "include_colab_link": true
    },
    "kernelspec": {
      "display_name": "Python 3",
      "name": "python3"
    }
  },
  "cells": [
    {
      "cell_type": "markdown",
      "metadata": {
        "id": "view-in-github",
        "colab_type": "text"
      },
      "source": [
        "<a href=\"https://colab.research.google.com/github/jjrico/MNIST_CONV2D/blob/main/MNIST_Number_FullCONV2D.ipynb\" target=\"_parent\"><img src=\"https://colab.research.google.com/assets/colab-badge.svg\" alt=\"Open In Colab\"/></a>"
      ]
    },
    {
      "cell_type": "markdown",
      "metadata": {
        "id": "3wF5wszaj97Y"
      },
      "source": [
        "# ANN for Handwritten Number Recognition MNIST\n",
        "### By: Jeremy Rico\n",
        "### UNIQUIFY\n",
        "\n",
        "This program uses a Fully Convolutional Network to classify the NMIST dataset"
      ]
    },
    {
      "cell_type": "markdown",
      "metadata": {
        "id": "QS7DDTiZGRTo"
      },
      "source": [
        "### Import libraries"
      ]
    },
    {
      "cell_type": "code",
      "metadata": {
        "id": "0trJmd6DjqBZ"
      },
      "source": [
        "%matplotlib inline\n",
        "import matplotlib.pyplot as plt\n",
        "import tensorflow as tf\n",
        "from tensorflow.keras.models import Sequential\n",
        "from tensorflow.keras.layers import Dense, Flatten, Conv2D, Dropout, MaxPooling2D\n",
        "from tensorflow.keras import Model\n",
        "import numpy as np\n",
        "# # mount to drive\n",
        "# from google.colab import drive\n",
        "# drive.mount('/content/gdrive')"
      ],
      "execution_count": 62,
      "outputs": []
    },
    {
      "cell_type": "markdown",
      "metadata": {
        "id": "7NAbSZiaoJ4z"
      },
      "source": [
        "### Load Data\n",
        "\n"
      ]
    },
    {
      "cell_type": "code",
      "metadata": {
        "id": "JqFRS6K07jJs",
        "outputId": "a19e705d-e5a5-40e2-ebc8-cec1cc69978c",
        "colab": {
          "base_uri": "https://localhost:8080/"
        }
      },
      "source": [
        "# Load dataset\n",
        "mnist = tf.keras.datasets.mnist\n",
        "\n",
        "# Split into train and test \n",
        "(x_train, y_train), (x_test, y_test) = mnist.load_data()\n",
        "\n",
        "# Regularize\n",
        "x_train, x_test = x_train / 255.0, x_test / 255.0\n",
        "\n",
        "# Add a channels dimension\n",
        "x_train = x_train[..., tf.newaxis].astype(\"float32\")\n",
        "x_test = x_test[..., tf.newaxis].astype(\"float32\")\n",
        "\n",
        "# display # of training and test samples\n",
        "print(\"%d training samples\" % x_train.shape[0])\n",
        "print(\"%d test samples\" % x_test.shape[0])"
      ],
      "execution_count": 63,
      "outputs": [
        {
          "output_type": "stream",
          "text": [
            "60000 training samples\n",
            "10000 test samples\n"
          ],
          "name": "stdout"
        }
      ]
    },
    {
      "cell_type": "markdown",
      "metadata": {
        "id": "on3HPmmK9rn7"
      },
      "source": [
        "### Shuffle and split data"
      ]
    },
    {
      "cell_type": "code",
      "metadata": {
        "id": "8Iu_quO024c2"
      },
      "source": [
        "# Shuffle and split the data into batches\n",
        "train_ds = tf.data.Dataset.from_tensor_slices((x_train, y_train)).shuffle(10000).batch(32)\n",
        "test_ds = tf.data.Dataset.from_tensor_slices((x_test, y_test)).batch(32)\n",
        "\n",
        "#define input shape\n",
        "input_shape = (28, 28, 1)"
      ],
      "execution_count": 64,
      "outputs": []
    },
    {
      "cell_type": "markdown",
      "metadata": {
        "id": "n6BhJTfK9wSU"
      },
      "source": [
        "### Class definition"
      ]
    },
    {
      "cell_type": "code",
      "metadata": {
        "id": "h3IKyzTCDNGo"
      },
      "source": [
        "# Creation of sequential model\n",
        "#   comment: tried dropout, but highest accuracy was achieved without it\n",
        "class MyModel(Model):\n",
        "  # initializer\n",
        "  def __init__(self):\n",
        "    super(MyModel, self).__init__()\n",
        "    self.conv0 = Conv2D(32, kernel_size=(3, 3), \n",
        "                         activation='relu', \n",
        "                         input_shape = input_shape)\n",
        "    self.maxp0 = MaxPooling2D(pool_size=(2,2))\n",
        "    self.conv1 = Conv2D(64, (3, 3), activation='relu')\n",
        "    self.maxp1 = MaxPooling2D(pool_size=(2,2))\n",
        "    self.drop1 = Dropout(0.25)\n",
        "    # self.flat1 = Flatten()\n",
        "    # self.dense1 = Dense(128, activation='relu')\n",
        "    # self.drop2 = Dropout(0.5)\n",
        "    self.conv3 = Conv2D(128, (3,3), activation='relu')\n",
        "    self.conv4 = Conv2D(10, (3,3))\n",
        "    self.flat = Flatten()\n",
        "\n",
        "  def call(self, x):\n",
        "    x = self.conv0(x)\n",
        "    x = self.maxp0(x)\n",
        "    x = self.conv1(x)\n",
        "    x = self.maxp1(x)\n",
        "    x = self.drop1(x)\n",
        "    x = self.conv3(x)\n",
        "    x = self.conv4(x)\n",
        "    x = self.flat(x)\n",
        "    return x\n",
        "\n",
        "# Create an instance of the model\n",
        "model = MyModel()"
      ],
      "execution_count": 65,
      "outputs": []
    },
    {
      "cell_type": "markdown",
      "metadata": {
        "id": "uGih-c2LgbJu"
      },
      "source": [
        "### Define metrics"
      ]
    },
    {
      "cell_type": "code",
      "metadata": {
        "id": "u48C9WQ774n4"
      },
      "source": [
        "# define loss and optimizer\n",
        "loss_object = tf.keras.losses.SparseCategoricalCrossentropy(from_logits=True)\n",
        "optimizer = tf.keras.optimizers.Adam()"
      ],
      "execution_count": 66,
      "outputs": []
    },
    {
      "cell_type": "code",
      "metadata": {
        "id": "N0MqHFb4F_qn"
      },
      "source": [
        "# select accuracy and loss metrics\n",
        "train_loss = tf.keras.metrics.Mean(name='train_loss')\n",
        "train_accuracy = tf.keras.metrics.SparseCategoricalAccuracy(name='train_accuracy')\n",
        "\n",
        "test_loss = tf.keras.metrics.Mean(name='test_loss')\n",
        "test_accuracy = tf.keras.metrics.SparseCategoricalAccuracy(name='test_accuracy')"
      ],
      "execution_count": 67,
      "outputs": []
    },
    {
      "cell_type": "markdown",
      "metadata": {
        "id": "qIMDC8Ag-CDf"
      },
      "source": [
        "### Training step function"
      ]
    },
    {
      "cell_type": "code",
      "metadata": {
        "id": "OZACiVqA8KQV"
      },
      "source": [
        "# Create function to train model using gradient tape\n",
        "@tf.function\n",
        "def train_step(images, labels):\n",
        "  with tf.GradientTape() as tape:\n",
        "    #training=True \n",
        "    predictions = model(images, training=True)\n",
        "    loss = loss_object(labels, predictions)\n",
        "  gradients = tape.gradient(loss, model.trainable_variables)\n",
        "  optimizer.apply_gradients(zip(gradients, model.trainable_variables))\n",
        "\n",
        "  train_loss(loss)\n",
        "  train_accuracy(labels, predictions)"
      ],
      "execution_count": 68,
      "outputs": []
    },
    {
      "cell_type": "markdown",
      "metadata": {
        "id": "ke9Wbe4b-FMF"
      },
      "source": [
        "### Test step function"
      ]
    },
    {
      "cell_type": "code",
      "metadata": {
        "id": "xIKdEzHAJGt7"
      },
      "source": [
        "# Create funtion to test the model\n",
        "@tf.function\n",
        "def test_step(images, labels):\n",
        "  #training=False\n",
        "  predictions = model(images, training=False)\n",
        "  t_loss = loss_object(labels, predictions)\n",
        "\n",
        "  test_loss(t_loss)\n",
        "  test_accuracy(labels, predictions)"
      ],
      "execution_count": 69,
      "outputs": []
    },
    {
      "cell_type": "markdown",
      "metadata": {
        "id": "LKGNTf1o-HVy"
      },
      "source": [
        "### Model training"
      ]
    },
    {
      "cell_type": "code",
      "metadata": {
        "id": "i-2pkctU_Ci7",
        "outputId": "0747c4e9-4fcf-48b6-d085-6b5156811c51",
        "colab": {
          "base_uri": "https://localhost:8080/"
        }
      },
      "source": [
        "# Define epochs here\n",
        "EPOCHS = 20\n",
        "# history is used to store metrics while the model is trained\n",
        "history = {'train_acc': [], 'train_loss': [], 'test_acc': [], 'test_loss': []}\n",
        "\n",
        "# Train and fit the model\n",
        "for epoch in range(EPOCHS):\n",
        "  # Reset metrics for each epoch\n",
        "  train_loss.reset_states()\n",
        "  train_accuracy.reset_states()\n",
        "  test_loss.reset_states()\n",
        "  test_accuracy.reset_states()\n",
        "\n",
        "  # call train function\n",
        "  for images, labels in train_ds:\n",
        "    train_step(images, labels)\n",
        "\n",
        "  # call test function\n",
        "  for test_images, test_labels in test_ds:\n",
        "    test_step(test_images, test_labels)\n",
        "\n",
        "  # print metrics\n",
        "  print(\n",
        "    f'Epoch {epoch + 1}, '\n",
        "    f'Loss: {train_loss.result()}, '\n",
        "    f'Accuracy: {train_accuracy.result()}, '\n",
        "    f'Test Loss: {test_loss.result()}, '\n",
        "    f'Test Accuracy: {test_accuracy.result()}'\n",
        "  )\n",
        "  \n",
        "  # store metrics in history\n",
        "  history['train_loss'].append(train_loss.result())\n",
        "  history['train_acc'].append(train_accuracy.result())\n",
        "  history['test_loss'].append(test_loss.result())\n",
        "  history['test_acc'].append(test_accuracy.result())"
      ],
      "execution_count": 70,
      "outputs": [
        {
          "output_type": "stream",
          "text": [
            "Epoch 1, Loss: 0.14784109592437744, Accuracy: 0.9546833038330078, Test Loss: 0.03787170350551605, Test Accuracy: 0.9882000088691711\n",
            "Epoch 2, Loss: 0.04993719607591629, Accuracy: 0.9846166372299194, Test Loss: 0.0276307575404644, Test Accuracy: 0.991100013256073\n",
            "Epoch 3, Loss: 0.037072621285915375, Accuracy: 0.9880666732788086, Test Loss: 0.027035286650061607, Test Accuracy: 0.991100013256073\n",
            "Epoch 4, Loss: 0.028519941493868828, Accuracy: 0.9908499717712402, Test Loss: 0.02367997355759144, Test Accuracy: 0.9923999905586243\n",
            "Epoch 5, Loss: 0.024175751954317093, Accuracy: 0.9921000003814697, Test Loss: 0.02590581588447094, Test Accuracy: 0.9921000003814697\n",
            "Epoch 6, Loss: 0.019016271457076073, Accuracy: 0.9940166473388672, Test Loss: 0.03397507593035698, Test Accuracy: 0.9904000163078308\n",
            "Epoch 7, Loss: 0.018030336126685143, Accuracy: 0.9938666820526123, Test Loss: 0.029977774247527122, Test Accuracy: 0.9908999800682068\n",
            "Epoch 8, Loss: 0.014342829585075378, Accuracy: 0.9950666427612305, Test Loss: 0.026059389114379883, Test Accuracy: 0.9921000003814697\n",
            "Epoch 9, Loss: 0.012940649874508381, Accuracy: 0.9956666827201843, Test Loss: 0.025175750255584717, Test Accuracy: 0.9932000041007996\n",
            "Epoch 10, Loss: 0.012511907145380974, Accuracy: 0.9958666563034058, Test Loss: 0.027796674519777298, Test Accuracy: 0.991599977016449\n",
            "Epoch 11, Loss: 0.011377105489373207, Accuracy: 0.996566653251648, Test Loss: 0.028274932876229286, Test Accuracy: 0.9922999739646912\n",
            "Epoch 12, Loss: 0.010888106189668179, Accuracy: 0.9965500235557556, Test Loss: 0.03229542076587677, Test Accuracy: 0.992900013923645\n",
            "Epoch 13, Loss: 0.00926748663187027, Accuracy: 0.9969000220298767, Test Loss: 0.03506696596741676, Test Accuracy: 0.9904000163078308\n",
            "Epoch 14, Loss: 0.00915726087987423, Accuracy: 0.9968666434288025, Test Loss: 0.03865407034754753, Test Accuracy: 0.9901999831199646\n",
            "Epoch 15, Loss: 0.008924012072384357, Accuracy: 0.996999979019165, Test Loss: 0.029413344338536263, Test Accuracy: 0.9919999837875366\n",
            "Epoch 16, Loss: 0.008430568501353264, Accuracy: 0.9972166419029236, Test Loss: 0.03508540987968445, Test Accuracy: 0.9919000267982483\n",
            "Epoch 17, Loss: 0.007369488012045622, Accuracy: 0.9973166584968567, Test Loss: 0.03570229932665825, Test Accuracy: 0.9932000041007996\n",
            "Epoch 18, Loss: 0.007789643947035074, Accuracy: 0.9975666403770447, Test Loss: 0.03209614008665085, Test Accuracy: 0.9929999709129333\n",
            "Epoch 19, Loss: 0.006450063548982143, Accuracy: 0.9979166388511658, Test Loss: 0.036377131938934326, Test Accuracy: 0.9933000206947327\n",
            "Epoch 20, Loss: 0.00777388783171773, Accuracy: 0.9974499940872192, Test Loss: 0.03654663264751434, Test Accuracy: 0.9914000034332275\n"
          ],
          "name": "stdout"
        }
      ]
    },
    {
      "cell_type": "markdown",
      "metadata": {
        "id": "B2n_0vh6-KYn"
      },
      "source": [
        "### Results"
      ]
    },
    {
      "cell_type": "code",
      "metadata": {
        "id": "P59d1N0SCg9d",
        "outputId": "b27e3c31-7319-46f6-cadc-dd4d47caaa42",
        "colab": {
          "base_uri": "https://localhost:8080/"
        }
      },
      "source": [
        "print(\"Training accuracy after %d epochs: %f%%\" % (EPOCHS, history['train_acc'][-1] * 100))\n",
        "print(\"Test accuracy after %d epochs: %f%%\" % (EPOCHS, history['test_acc'][-1] * 100))\n",
        "print(\"Training loss after %d epochs: %f%%\" % (EPOCHS, history['train_loss'][-1] * 100))\n",
        "print(\"Test loss after %d epochs: %f%%\" % (EPOCHS, history['test_loss'][-1] * 100))"
      ],
      "execution_count": 71,
      "outputs": [
        {
          "output_type": "stream",
          "text": [
            "Training accuracy after 20 epochs: 99.745003%\n",
            "Test accuracy after 20 epochs: 99.139999%\n",
            "Training loss after 20 epochs: 0.777389%\n",
            "Test loss after 20 epochs: 3.654663%\n"
          ],
          "name": "stdout"
        }
      ]
    },
    {
      "cell_type": "code",
      "metadata": {
        "id": "1mxLJk2n1B6H",
        "outputId": "b38cc113-ef4e-4d9c-c5cd-fcac236951b9",
        "colab": {
          "base_uri": "https://localhost:8080/",
          "height": 573
        }
      },
      "source": [
        "# Plot training accuracy & loss values\n",
        "plt.plot(range(EPOCHS), history['train_acc'])\n",
        "plt.plot(range(EPOCHS), history['test_acc'])\n",
        "plt.title('Model accuracy')\n",
        "plt.ylabel('Accuracy')\n",
        "plt.xlabel('Epoch')\n",
        "plt.legend(['Train', 'Test'], loc='upper left')\n",
        "plt.show()\n",
        "\n",
        "# Plot test accuracy and loss values\n",
        "plt.plot(range(EPOCHS), history['train_loss'])\n",
        "plt.plot(range(EPOCHS), history['test_loss'])\n",
        "plt.title('Model loss')\n",
        "plt.ylabel('Loss')\n",
        "plt.xlabel('Epoch')\n",
        "plt.legend(['Train', 'Test'], loc='upper left')\n",
        "plt.show()"
      ],
      "execution_count": 72,
      "outputs": [
        {
          "output_type": "display_data",
          "data": {
            "image/png": "[encoded data removed]",
            "text/plain": [
              "<Figure size 432x288 with 1 Axes>"
            ]
          },
          "metadata": {
            "tags": [],
            "needs_background": "light"
          }
        },
        {
          "output_type": "display_data",
          "data": {
            "image/png": "[encoded data removed]",
            "text/plain": [
              "<Figure size 432x288 with 1 Axes>"
            ]
          },
          "metadata": {
            "tags": [],
            "needs_background": "light"
          }
        }
      ]
    },
    {
      "cell_type": "markdown",
      "metadata": {
        "id": "Kh24XsyRS7pA"
      },
      "source": [
        "### Save weights to drive"
      ]
    },
    {
      "cell_type": "code",
      "metadata": {
        "id": "258aNPg9CYtC"
      },
      "source": [
        "# w0 = model.layers[1].get_weights()[0]\n",
        "# b0 = model.layers[1].get_weights()[1]\n",
        "# w1 = model.layers[2].get_weights()[0]\n",
        "# b1 = model.layers[2].get_weights()[1]\n",
        "\n",
        "# np.save(F\"/content/gdrive/My Drive/w0\", w0)\n",
        "# np.save(F\"/content/gdrive/My Drive/b0\", b0)\n",
        "# np.save(F\"/content/gdrive/My Drive/w1\", w1)\n",
        "# np.save(F\"/content/gdrive/My Drive/b1\", b1)"
      ],
      "execution_count": 73,
      "outputs": []
    },
    {
      "cell_type": "code",
      "metadata": {
        "id": "zJ-GbCrlS93c"
      },
      "source": [
        ""
      ],
      "execution_count": 73,
      "outputs": []
    }
  ]
}