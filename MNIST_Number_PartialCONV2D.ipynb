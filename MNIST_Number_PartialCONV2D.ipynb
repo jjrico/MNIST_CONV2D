{
  "nbformat": 4,
  "nbformat_minor": 0,
  "metadata": {
    "accelerator": "GPU",
    "colab": {
      "name": "MNIST_Number_PartialCONV2D.ipynb",
      "provenance": [],
      "collapsed_sections": [],
      "toc_visible": true,
      "include_colab_link": true
    },
    "kernelspec": {
      "display_name": "Python 3",
      "name": "python3"
    }
  },
  "cells": [
    {
      "cell_type": "markdown",
      "metadata": {
        "id": "view-in-github",
        "colab_type": "text"
      },
      "source": [
        "<a href=\"https://colab.research.google.com/github/jjrico/MNIST_CONV2D/blob/main/MNIST_Number_PartialCONV2D.ipynb\" target=\"_parent\"><img src=\"https://colab.research.google.com/assets/colab-badge.svg\" alt=\"Open In Colab\"/></a>"
      ]
    },
    {
      "cell_type": "markdown",
      "metadata": {
        "id": "3wF5wszaj97Y"
      },
      "source": [
        "# ANN for Handwritten Number Recognition MNIST\n",
        "### By: Jeremy Rico\n",
        "### UNIQUIFY\n",
        "\n",
        "This program uses tensorflow keras to create a hybrid convolutional and sequential network to classify the NMIST dataset."
      ]
    },
    {
      "cell_type": "markdown",
      "metadata": {
        "id": "QS7DDTiZGRTo"
      },
      "source": [
        "### Import libraries"
      ]
    },
    {
      "cell_type": "code",
      "metadata": {
        "id": "0trJmd6DjqBZ"
      },
      "source": [
        "%matplotlib inline\n",
        "import matplotlib.pyplot as plt\n",
        "import tensorflow as tf\n",
        "from tensorflow.keras.models import Sequential\n",
        "from tensorflow.keras.layers import Dense, Flatten, Conv2D, Dropout, MaxPooling2D\n",
        "from tensorflow.keras import Model\n",
        "import numpy as np\n",
        "# # mount to drive\n",
        "# from google.colab import drive\n",
        "# drive.mount('/content/gdrive')"
      ],
      "execution_count": null,
      "outputs": []
    },
    {
      "cell_type": "markdown",
      "metadata": {
        "id": "7NAbSZiaoJ4z"
      },
      "source": [
        "### Load Data\n",
        "\n"
      ]
    },
    {
      "cell_type": "code",
      "metadata": {
        "id": "JqFRS6K07jJs",
        "outputId": "1cac583b-1c8a-452a-8261-e3ddc08f9c0a",
        "colab": {
          "base_uri": "https://localhost:8080/"
        }
      },
      "source": [
        "# Load dataset\n",
        "mnist = tf.keras.datasets.mnist\n",
        "\n",
        "# Split into train and test \n",
        "(x_train, y_train), (x_test, y_test) = mnist.load_data()\n",
        "\n",
        "# Regularize\n",
        "x_train, x_test = x_train / 255.0, x_test / 255.0\n",
        "\n",
        "# Add a channels dimension\n",
        "x_train = x_train[..., tf.newaxis].astype(\"float32\")\n",
        "x_test = x_test[..., tf.newaxis].astype(\"float32\")\n",
        "\n",
        "# display # of training and test samples\n",
        "print(\"%d training samples\" % x_train.shape[0])\n",
        "print(\"%d test samples\" % x_test.shape[0])"
      ],
      "execution_count": null,
      "outputs": [
        {
          "output_type": "stream",
          "text": [
            "60000 training samples\n",
            "10000 test samples\n"
          ],
          "name": "stdout"
        }
      ]
    },
    {
      "cell_type": "markdown",
      "metadata": {
        "id": "on3HPmmK9rn7"
      },
      "source": [
        "### Shuffle and split data"
      ]
    },
    {
      "cell_type": "code",
      "metadata": {
        "id": "8Iu_quO024c2"
      },
      "source": [
        "# Shuffle and split the data into batches\n",
        "train_ds = tf.data.Dataset.from_tensor_slices((x_train, y_train)).shuffle(10000).batch(32)\n",
        "test_ds = tf.data.Dataset.from_tensor_slices((x_test, y_test)).batch(32)\n",
        "\n",
        "#define specifications for model and training\n",
        "input_shape = (28, 28, 1)\n",
        "num_classes = 10\n",
        "EPOCHS = 20"
      ],
      "execution_count": null,
      "outputs": []
    },
    {
      "cell_type": "markdown",
      "metadata": {
        "id": "n6BhJTfK9wSU"
      },
      "source": [
        "### Class definition"
      ]
    },
    {
      "cell_type": "code",
      "metadata": {
        "id": "h3IKyzTCDNGo"
      },
      "source": [
        "# Creation of sequential model\n",
        "#   comment: tried dropout, but highest accuracy was achieved without it\n",
        "class MyModel(Model):\n",
        "  # initializer\n",
        "  def __init__(self):\n",
        "    super(MyModel, self).__init__()\n",
        "    self.conv0 = Conv2D(32, kernel_size=(3, 3), \n",
        "                         activation='relu', \n",
        "                         input_shape = input_shape)\n",
        "    self.conv1 = Conv2D(64, (3, 3), activation='relu')\n",
        "    self.maxp1 = MaxPooling2D(pool_size=(2,2))\n",
        "    self.drop1 = Dropout(0.25)\n",
        "    self.flat1 = Flatten()\n",
        "    self.dense1 = Dense(128, activation='relu')\n",
        "    self.drop2 = Dropout(0.5)\n",
        "    self.dense2 = Dense(num_classes)\n",
        "\n",
        "  def call(self, x):\n",
        "    x = self.conv0(x)\n",
        "    x = self.conv1(x)\n",
        "    x = self.maxp1(x)\n",
        "    x = self.drop1(x)\n",
        "    x = self.flat1(x)\n",
        "    x = self.dense1(x)\n",
        "    x = self.drop2(x)\n",
        "    return self.dense2(x)\n",
        "\n",
        "# Create an instance of the model\n",
        "model = MyModel()"
      ],
      "execution_count": null,
      "outputs": []
    },
    {
      "cell_type": "markdown",
      "metadata": {
        "id": "uGih-c2LgbJu"
      },
      "source": [
        "### Define metrics"
      ]
    },
    {
      "cell_type": "code",
      "metadata": {
        "id": "u48C9WQ774n4"
      },
      "source": [
        "# define loss and optimizer\n",
        "loss_object = tf.keras.losses.SparseCategoricalCrossentropy(from_logits=True)\n",
        "optimizer = tf.keras.optimizers.Adam()"
      ],
      "execution_count": null,
      "outputs": []
    },
    {
      "cell_type": "code",
      "metadata": {
        "id": "N0MqHFb4F_qn"
      },
      "source": [
        "# select accuracy and loss metrics\n",
        "train_loss = tf.keras.metrics.Mean(name='train_loss')\n",
        "train_accuracy = tf.keras.metrics.SparseCategoricalAccuracy(name='train_accuracy')\n",
        "\n",
        "test_loss = tf.keras.metrics.Mean(name='test_loss')\n",
        "test_accuracy = tf.keras.metrics.SparseCategoricalAccuracy(name='test_accuracy')"
      ],
      "execution_count": null,
      "outputs": []
    },
    {
      "cell_type": "markdown",
      "metadata": {
        "id": "qIMDC8Ag-CDf"
      },
      "source": [
        "### Training step function"
      ]
    },
    {
      "cell_type": "code",
      "metadata": {
        "id": "OZACiVqA8KQV"
      },
      "source": [
        "# Create function to train model using gradient tape\n",
        "@tf.function\n",
        "def train_step(images, labels):\n",
        "  with tf.GradientTape() as tape:\n",
        "    #training=True \n",
        "    predictions = model(images, training=True)\n",
        "    loss = loss_object(labels, predictions)\n",
        "  gradients = tape.gradient(loss, model.trainable_variables)\n",
        "  optimizer.apply_gradients(zip(gradients, model.trainable_variables))\n",
        "\n",
        "  train_loss(loss)\n",
        "  train_accuracy(labels, predictions)"
      ],
      "execution_count": null,
      "outputs": []
    },
    {
      "cell_type": "markdown",
      "metadata": {
        "id": "ke9Wbe4b-FMF"
      },
      "source": [
        "### Test step function"
      ]
    },
    {
      "cell_type": "code",
      "metadata": {
        "id": "xIKdEzHAJGt7"
      },
      "source": [
        "# Create funtion to test the model\n",
        "@tf.function\n",
        "def test_step(images, labels):\n",
        "  #training=False\n",
        "  predictions = model(images, training=False)\n",
        "  t_loss = loss_object(labels, predictions)\n",
        "\n",
        "  test_loss(t_loss)\n",
        "  test_accuracy(labels, predictions)"
      ],
      "execution_count": null,
      "outputs": []
    },
    {
      "cell_type": "markdown",
      "metadata": {
        "id": "LKGNTf1o-HVy"
      },
      "source": [
        "### Model training"
      ]
    },
    {
      "cell_type": "code",
      "metadata": {
        "id": "i-2pkctU_Ci7",
        "outputId": "755bdd3e-4ee3-45db-a98b-b7053316b7b2",
        "colab": {
          "base_uri": "https://localhost:8080/"
        }
      },
      "source": [
        "# history is used to store metrics while the model is trained\n",
        "history = {'train_acc': [], 'train_loss': [], 'test_acc': [], 'test_loss': []}\n",
        "\n",
        "# Train and fit the model\n",
        "for epoch in range(EPOCHS):\n",
        "  # Reset metrics for each epoch\n",
        "  train_loss.reset_states()\n",
        "  train_accuracy.reset_states()\n",
        "  test_loss.reset_states()\n",
        "  test_accuracy.reset_states()\n",
        "\n",
        "  # call train function\n",
        "  for images, labels in train_ds:\n",
        "    train_step(images, labels)\n",
        "\n",
        "  # call test function\n",
        "  for test_images, test_labels in test_ds:\n",
        "    test_step(test_images, test_labels)\n",
        "\n",
        "  # print metrics\n",
        "  print(\n",
        "    f'Epoch {epoch + 1}, '\n",
        "    f'Loss: {train_loss.result()}, '\n",
        "    f'Accuracy: {train_accuracy.result()}, '\n",
        "    f'Test Loss: {test_loss.result()}, '\n",
        "    f'Test Accuracy: {test_accuracy.result()}'\n",
        "  )\n",
        "  \n",
        "  # store metrics in history\n",
        "  history['train_loss'].append(train_loss.result())\n",
        "  history['train_acc'].append(train_accuracy.result())\n",
        "  history['test_loss'].append(test_loss.result())\n",
        "  history['test_acc'].append(test_accuracy.result())"
      ],
      "execution_count": null,
      "outputs": [
        {
          "output_type": "stream",
          "text": [
            "Epoch 1, Loss: 0.19475503265857697, Accuracy: 0.9425166845321655, Test Loss: 0.0462077371776104, Test Accuracy: 0.9860000014305115\n",
            "Epoch 2, Loss: 0.08190334588289261, Accuracy: 0.9760333299636841, Test Loss: 0.03628604859113693, Test Accuracy: 0.9876000285148621\n",
            "Epoch 3, Loss: 0.06369936466217041, Accuracy: 0.9816499948501587, Test Loss: 0.030959665775299072, Test Accuracy: 0.989799976348877\n",
            "Epoch 4, Loss: 0.05157899856567383, Accuracy: 0.9839666485786438, Test Loss: 0.027860771864652634, Test Accuracy: 0.9914000034332275\n",
            "Epoch 5, Loss: 0.041761670261621475, Accuracy: 0.9871333241462708, Test Loss: 0.030691945925354958, Test Accuracy: 0.9904999732971191\n",
            "Epoch 6, Loss: 0.03781071677803993, Accuracy: 0.9878000020980835, Test Loss: 0.032033536583185196, Test Accuracy: 0.9902999997138977\n",
            "Epoch 7, Loss: 0.03220338001847267, Accuracy: 0.9898666739463806, Test Loss: 0.029894579201936722, Test Accuracy: 0.9916999936103821\n",
            "Epoch 8, Loss: 0.02952096424996853, Accuracy: 0.9904500246047974, Test Loss: 0.031122472137212753, Test Accuracy: 0.9919000267982483\n",
            "Epoch 9, Loss: 0.026089150458574295, Accuracy: 0.9910500049591064, Test Loss: 0.03767845034599304, Test Accuracy: 0.9904000163078308\n",
            "Epoch 10, Loss: 0.02432718314230442, Accuracy: 0.9924499988555908, Test Loss: 0.03027893416583538, Test Accuracy: 0.9909999966621399\n",
            "Epoch 11, Loss: 0.022532880306243896, Accuracy: 0.9924166798591614, Test Loss: 0.035432543605566025, Test Accuracy: 0.9904999732971191\n",
            "Epoch 12, Loss: 0.020297013223171234, Accuracy: 0.9934333562850952, Test Loss: 0.0371369831264019, Test Accuracy: 0.991100013256073\n",
            "Epoch 13, Loss: 0.020227115601301193, Accuracy: 0.9938166737556458, Test Loss: 0.03211265429854393, Test Accuracy: 0.9919000267982483\n",
            "Epoch 14, Loss: 0.019408782944083214, Accuracy: 0.9936500191688538, Test Loss: 0.0347491055727005, Test Accuracy: 0.991100013256073\n",
            "Epoch 15, Loss: 0.01645467057824135, Accuracy: 0.9947333335876465, Test Loss: 0.0319427028298378, Test Accuracy: 0.9922999739646912\n",
            "Epoch 16, Loss: 0.017216484993696213, Accuracy: 0.9946333169937134, Test Loss: 0.031515929847955704, Test Accuracy: 0.9926000237464905\n",
            "Epoch 17, Loss: 0.015957428142428398, Accuracy: 0.9950000047683716, Test Loss: 0.036247607320547104, Test Accuracy: 0.9912999868392944\n",
            "Epoch 18, Loss: 0.01665092073380947, Accuracy: 0.9947666525840759, Test Loss: 0.0351615808904171, Test Accuracy: 0.9930999875068665\n",
            "Epoch 19, Loss: 0.014517778530716896, Accuracy: 0.9951666593551636, Test Loss: 0.040262822061777115, Test Accuracy: 0.9916999936103821\n",
            "Epoch 20, Loss: 0.013832283206284046, Accuracy: 0.9956166744232178, Test Loss: 0.035606883466243744, Test Accuracy: 0.9921000003814697\n"
          ],
          "name": "stdout"
        }
      ]
    },
    {
      "cell_type": "markdown",
      "metadata": {
        "id": "B2n_0vh6-KYn"
      },
      "source": [
        "### Results"
      ]
    },
    {
      "cell_type": "code",
      "metadata": {
        "id": "P59d1N0SCg9d",
        "outputId": "2bb73bd4-3b64-4c75-cbf5-cdcb13281830",
        "colab": {
          "base_uri": "https://localhost:8080/"
        }
      },
      "source": [
        "print(\"Training accuracy after %d epochs: %f%%\" % (EPOCHS, history['train_acc'][-1] * 100))\n",
        "print(\"Test accuracy after %d epochs: %f%%\" % (EPOCHS, history['test_acc'][-1] * 100))\n",
        "print(\"Training loss after %d epochs: %f%%\" % (EPOCHS, history['train_loss'][-1] * 100))\n",
        "print(\"Test loss after %d epochs: %f%%\" % (EPOCHS, history['test_loss'][-1] * 100))"
      ],
      "execution_count": null,
      "outputs": [
        {
          "output_type": "stream",
          "text": [
            "Training accuracy after 20 epochs: 99.561668%\n",
            "Test accuracy after 20 epochs: 99.209999%\n",
            "Training loss after 20 epochs: 1.383228%\n",
            "Test loss after 20 epochs: 3.560688%\n"
          ],
          "name": "stdout"
        }
      ]
    },
    {
      "cell_type": "code",
      "metadata": {
        "id": "1mxLJk2n1B6H",
        "outputId": "6b9a7017-166e-480a-9478-81a257a9d21d",
        "colab": {
          "base_uri": "https://localhost:8080/",
          "height": 573
        }
      },
      "source": [
        "# Plot training accuracy & loss values\n",
        "plt.plot(range(EPOCHS), history['train_acc'])\n",
        "plt.plot(range(EPOCHS), history['test_acc'])\n",
        "plt.title('Model accuracy')\n",
        "plt.ylabel('Accuracy')\n",
        "plt.xlabel('Epoch')\n",
        "plt.legend(['Train', 'Test'], loc='upper left')\n",
        "plt.show()\n",
        "\n",
        "# Plot test accuracy and loss values\n",
        "plt.plot(range(EPOCHS), history['train_loss'])\n",
        "plt.plot(range(EPOCHS), history['test_loss'])\n",
        "plt.title('Model loss')\n",
        "plt.ylabel('Loss')\n",
        "plt.xlabel('Epoch')\n",
        "plt.legend(['Train', 'Test'], loc='upper left')\n",
        "plt.show()"
      ],
      "execution_count": null,
      "outputs": [
        {
          "output_type": "display_data",
          "data": {
            "image/png": "[encoded data removed]",
            "text/plain": [
              "<Figure size 432x288 with 1 Axes>"
            ]
          },
          "metadata": {
            "tags": [],
            "needs_background": "light"
          }
        },
        {
          "output_type": "display_data",
          "data": {
            "image/png": "[encoded data removed]",
            "text/plain": [
              "<Figure size 432x288 with 1 Axes>"
            ]
          },
          "metadata": {
            "tags": [],
            "needs_background": "light"
          }
        }
      ]
    },
    {
      "cell_type": "markdown",
      "metadata": {
        "id": "Kh24XsyRS7pA"
      },
      "source": [
        "### Save weights to drive"
      ]
    },
    {
      "cell_type": "code",
      "metadata": {
        "id": "258aNPg9CYtC"
      },
      "source": [
        "# w0 = model.layers[1].get_weights()[0]\n",
        "# b0 = model.layers[1].get_weights()[1]\n",
        "# w1 = model.layers[2].get_weights()[0]\n",
        "# b1 = model.layers[2].get_weights()[1]\n",
        "\n",
        "# np.save(F\"/content/gdrive/My Drive/w0\", w0)\n",
        "# np.save(F\"/content/gdrive/My Drive/b0\", b0)\n",
        "# np.save(F\"/content/gdrive/My Drive/w1\", w1)\n",
        "# np.save(F\"/content/gdrive/My Drive/b1\", b1)"
      ],
      "execution_count": null,
      "outputs": []
    },
    {
      "cell_type": "code",
      "metadata": {
        "id": "zJ-GbCrlS93c"
      },
      "source": [
        ""
      ],
      "execution_count": null,
      "outputs": []
    }
  ]
}